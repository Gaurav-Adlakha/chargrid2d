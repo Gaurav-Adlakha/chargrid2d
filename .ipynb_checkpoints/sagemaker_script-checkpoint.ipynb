{
 "cells": [
  {
   "cell_type": "code",
   "execution_count": null,
   "metadata": {},
   "outputs": [],
   "source": [
    "#!/usr/bin/python\n",
    "import os \n",
    "import sagemaker\n",
    "import subprocess\n",
    "\n",
    "\n",
    "# Define instance configurations \n",
    "sess = sagemaker.Session()\n",
    "role = sagemaker.get_execution_role()\n",
    "account = sess.boto_session.client('sts').get_caller_identity()['Account']\n",
    "region = sess.boto_session.region_name\n",
    "\n",
    "repo_name = 'key_value' # ECR repository\n",
    "image_tag = 'chargrid' # ECR image tag\n",
    "base_job_name = 'kyocera-hector' # SageMaker training prefix\n",
    "# dockerfile = os.path.abspath('./new_dockerfile')\n",
    "\n",
    "%env dockerfile Dockerfile\n",
    "%env account {account}\n",
    "%env region {region}\n",
    "%env repo_name {repo_name}\n",
    "%env image_tag {image_tag}\n",
    "\n",
    "# print(\"Account: {0}\".format(account))\n",
    "# print(\"Region: {0}\".format(region))\n",
    "# print(\"Repo name: {0}\".format(repo_name))\n",
    "# print(\"Image tag: {0}\".format(image_tag))\n",
    "# print(\"Base job name: {0}\".format(base_job_name))\n",
    "# print(\"Docker file: {0}\".format(dockerfile))"
   ]
  },
  {
   "cell_type": "code",
   "execution_count": null,
   "metadata": {},
   "outputs": [],
   "source": [
    "%%sh\n",
    "aws ecr describe-repositories --repository-names $repo_name > /dev/null 2>&1\n",
    "if [ $? -ne 0 ]\n",
    "then\n",
    "   aws ecr create-repository --repository-name $repo_name > /dev/null\n",
    "fi\n",
    "$(aws ecr get-login --region $region --no-include-email)"
   ]
  },
  {
   "cell_type": "code",
   "execution_count": null,
   "metadata": {},
   "outputs": [],
   "source": [
    "# # Build docker and push to ionstance\n",
    "# subprocess.run(\"docker build -t {0} -f {1} . \".format(image_tag, dockerfile), shell=True)\n",
    "# subprocess.run(\"docker tag {0} {1}.dkr.ecr.{2}.amazonaws.com/{3}:latest\".format(image_tag, account, region, repo_name), shell=True)\n",
    "# subprocess.run(\"docker push {0}.dkr.ecr.{1}.amazonaws.com/{2}:latest\".format(account, region, repo_name), shell=True)\n",
    "\n",
    "!docker build -t $image_tag -f $dockerfile .\n",
    "!docker tag $image_tag $account.dkr.ecr.$region.amazonaws.com/$repo_name:latest\n",
    "!docker images\n",
    "!docker push $account.dkr.ecr.$region.amazonaws.com/$repo_name:latest"
   ]
  },
  {
   "cell_type": "code",
   "execution_count": null,
   "metadata": {},
   "outputs": [],
   "source": [
    "\n",
    "# Define data path in S3 \n",
    "s3_directory = 's3://prj-kyocera/research'\n",
    "train_input_channel = sagemaker.session.s3_input(s3_directory, distribution='FullyReplicated',  s3_data_type='S3Prefix')\n",
    "\n",
    "# Define image name, output path to save model \n",
    "output_path = 's3://prj-kyocera/research/output '\n",
    "image_name  = '{}.dkr.ecr.{}.amazonaws.com/{}:latest'.format(account, region, repo_name)\n",
    "\n",
    "## Define instance to train \n",
    "train_instance_type = 'ml.p3.2xlarge'\n",
    "# train_instance_type = 'ml.p3.8xlarge'\n",
    "\n",
    "# Define space of disk to storage input data\n",
    "storage_space = 30 # Gb\n",
    "\n",
    "# Maximum seconds for this training job’s life (days * hours * seconds)\n",
    "train_max_run = 1 * 24  * 3600"
   ]
  },
  {
   "cell_type": "code",
   "execution_count": null,
   "metadata": {},
   "outputs": [],
   "source": [
    "\n",
    "# Set sagemaker estimator and process to train\n",
    "estimator = sagemaker.estimator.Estimator(\n",
    "                       image_name=image_name,\n",
    "                       base_job_name=base_job_name,\n",
    "                       role=role,\n",
    "                       input_mode='File',\n",
    "                       train_instance_count=1,\n",
    "                       train_volume_size=storage_space,\n",
    "                       train_instance_type=train_instance_type,\n",
    "                       output_path=output_path,\n",
    "                       train_max_run=train_max_run,\n",
    "                       train_use_spot_instances=True,\n",
    "                       train_max_wait=2 * 24  * 3600,\n",
    "                       checkpoint_local_path='weights'\n",
    "                       sagemaker_session=sess)\n",
    "\n",
    "estimator.fit({'train': train_input_channel})"
   ]
  }
 ],
 "metadata": {
  "file_extension": ".py",
  "kernelspec": {
   "display_name": "Python 3",
   "language": "python",
   "name": "python3"
  },
  "language_info": {
   "codemirror_mode": {
    "name": "ipython",
    "version": 3
   },
   "file_extension": ".py",
   "mimetype": "text/x-python",
   "name": "python",
   "nbconvert_exporter": "python",
   "pygments_lexer": "ipython3",
   "version": "3.6.8"
  },
  "mimetype": "text/x-python",
  "name": "python",
  "npconvert_exporter": "python",
  "pygments_lexer": "ipython3",
  "version": 3
 },
 "nbformat": 4,
 "nbformat_minor": 2
}
